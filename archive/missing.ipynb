{
 "cells": [
  {
   "cell_type": "code",
   "execution_count": 1,
   "metadata": {},
   "outputs": [],
   "source": [
    "import numpy as np\n",
    "import matplotlib.pyplot as plt\n",
    "import pandas as pd\n",
    "voc=pd.read_csv('./data/voc_2010-2022.csv')\n",
    "voc['Datetime']=pd.to_datetime(voc['Datetime'])\n",
    "heat=pd.read_csv('./data/sensible_heat_flux_2001-2022.csv')\n",
    "heat['Datetime']=pd.to_datetime(heat['Datetime'])\n",
    "latent2018=pd.read_csv('./data/latent_heat_flux_2018-2022.csv')\n",
    "latent2001=pd.read_csv('./data/latent_heat_flux_2001-2018.csv')\n",
    "gpp=pd.read_csv('./data/GPP_NEE_flux_2001-2022.csv')\n",
    "latent2001['Datetime']=pd.to_datetime(latent2001['Datetime'])\n",
    "latent2018['Datetime']=pd.to_datetime(latent2018['Datetime'])\n",
    "gpp['Datetime']=pd.to_datetime(gpp['Datetime'])"
   ]
  },
  {
   "cell_type": "code",
   "execution_count": 2,
   "metadata": {},
   "outputs": [],
   "source": [
    "def closest(df1,df2,delta):\n",
    "    # Funktio joka palauttaa df2:n aikoja edeltävät df1:n ajan ja lukuarvot\n",
    "    # Delta on mahdollinen ajansiirto jos halutaan katsoa havaintoja tietyn ajan ennen df2:n aikoja\n",
    "    curr=0 \n",
    "    close=[]\n",
    "    names=list(df1.columns)\n",
    "    for val in df2['Datetime']:\n",
    "        temp=0\n",
    "        for j in range(curr,len(df1['Datetime'])):\n",
    "            if df1['Datetime'][j]-delta<=val:\n",
    "                temp=df1['Datetime'][j]\n",
    "            elif temp==0:\n",
    "                close.append([np.NaN,np.NaN])\n",
    "                curr=j\n",
    "                break\n",
    "            else:\n",
    "                app=np.asarray(df1.loc[j-1,names[1:]])\n",
    "                close.append(app)\n",
    "                curr=j\n",
    "                break\n",
    "    names=names[2:]\n",
    "    names.insert(0,f'Closest time for {names[0]} etc')\n",
    "    return close,names"
   ]
  },
  {
   "cell_type": "code",
   "execution_count": 3,
   "metadata": {},
   "outputs": [],
   "source": [
    "from datetime import timedelta\n",
    "delta=timedelta(0)\n",
    "close,names=closest(heat,gpp,delta)"
   ]
  },
  {
   "cell_type": "code",
   "execution_count": 4,
   "metadata": {},
   "outputs": [],
   "source": [
    "closedf=pd.DataFrame(close,columns=names)\n",
    "combined=pd.concat([gpp,closedf],axis=1)"
   ]
  },
  {
   "cell_type": "code",
   "execution_count": 5,
   "metadata": {},
   "outputs": [],
   "source": [
    "close,names=closest(latent2018,combined,delta)"
   ]
  },
  {
   "cell_type": "code",
   "execution_count": 6,
   "metadata": {},
   "outputs": [],
   "source": [
    "closedf=pd.DataFrame(close,columns=names)\n",
    "combined=pd.concat([combined,closedf],axis=1)"
   ]
  },
  {
   "cell_type": "code",
   "execution_count": 7,
   "metadata": {},
   "outputs": [],
   "source": [
    "close,names=closest(latent2001,combined,delta)"
   ]
  },
  {
   "cell_type": "code",
   "execution_count": 8,
   "metadata": {},
   "outputs": [],
   "source": [
    "closedf=pd.DataFrame(close,columns=names)\n",
    "combined=pd.concat([combined,closedf],axis=1)"
   ]
  },
  {
   "cell_type": "code",
   "execution_count": 9,
   "metadata": {},
   "outputs": [],
   "source": [
    "close,names=closest(voc,combined,delta)"
   ]
  },
  {
   "cell_type": "code",
   "execution_count": 10,
   "metadata": {},
   "outputs": [],
   "source": [
    "closedf=pd.DataFrame(close,columns=names)\n",
    "combined=pd.concat([combined,closedf],axis=1)"
   ]
  },
  {
   "cell_type": "code",
   "execution_count": 11,
   "metadata": {},
   "outputs": [
    {
     "data": {
      "text/html": [
       "<div>\n",
       "<style scoped>\n",
       "    .dataframe tbody tr th:only-of-type {\n",
       "        vertical-align: middle;\n",
       "    }\n",
       "\n",
       "    .dataframe tbody tr th {\n",
       "        vertical-align: top;\n",
       "    }\n",
       "\n",
       "    .dataframe thead th {\n",
       "        text-align: right;\n",
       "    }\n",
       "</style>\n",
       "<table border=\"1\" class=\"dataframe\">\n",
       "  <thead>\n",
       "    <tr style=\"text-align: right;\">\n",
       "      <th></th>\n",
       "      <th>Unnamed: 0</th>\n",
       "      <th>Datetime</th>\n",
       "      <th>NEE</th>\n",
       "      <th>NEE_gapfilling_method</th>\n",
       "      <th>GPP</th>\n",
       "      <th>Closest time for sensible_heat_flux etc</th>\n",
       "      <th>sensible_heat_flux</th>\n",
       "      <th>sensible_heat_flux_gapfilling_method</th>\n",
       "      <th>Closest time for latent_heat_flux_after_4-2018 etc</th>\n",
       "      <th>latent_heat_flux_after_4-2018</th>\n",
       "      <th>latent_heat_flux_quality_flag_after_4-2018</th>\n",
       "      <th>Closest time for HYY_EDDY233.LE etc</th>\n",
       "      <th>HYY_EDDY233.LE</th>\n",
       "      <th>HYY_EDDY233.Qc_LE</th>\n",
       "      <th>Closest time for monoterpene_flux etc</th>\n",
       "      <th>monoterpene_flux</th>\n",
       "      <th>methanol_flux</th>\n",
       "      <th>acetone_flux</th>\n",
       "      <th>acetaldehyde_flux</th>\n",
       "    </tr>\n",
       "  </thead>\n",
       "  <tbody>\n",
       "    <tr>\n",
       "      <th>0</th>\n",
       "      <td>0</td>\n",
       "      <td>2001-01-01 00:00:00</td>\n",
       "      <td>0.459</td>\n",
       "      <td>1</td>\n",
       "      <td>-0.0</td>\n",
       "      <td>2001-01-01 00:00:00</td>\n",
       "      <td>2.175</td>\n",
       "      <td>0.0</td>\n",
       "      <td>NaT</td>\n",
       "      <td>NaN</td>\n",
       "      <td>NaN</td>\n",
       "      <td>2001-01-01 00:00:00</td>\n",
       "      <td>1.41180</td>\n",
       "      <td>NaN</td>\n",
       "      <td>NaT</td>\n",
       "      <td>NaN</td>\n",
       "      <td>NaN</td>\n",
       "      <td>NaN</td>\n",
       "      <td>NaN</td>\n",
       "    </tr>\n",
       "    <tr>\n",
       "      <th>1</th>\n",
       "      <td>1</td>\n",
       "      <td>2001-01-01 00:30:00</td>\n",
       "      <td>0.459</td>\n",
       "      <td>1</td>\n",
       "      <td>-0.0</td>\n",
       "      <td>2001-01-01 00:30:00</td>\n",
       "      <td>3.724</td>\n",
       "      <td>0.0</td>\n",
       "      <td>NaT</td>\n",
       "      <td>NaN</td>\n",
       "      <td>NaN</td>\n",
       "      <td>2001-01-01 00:30:00</td>\n",
       "      <td>1.19590</td>\n",
       "      <td>NaN</td>\n",
       "      <td>NaT</td>\n",
       "      <td>NaN</td>\n",
       "      <td>NaN</td>\n",
       "      <td>NaN</td>\n",
       "      <td>NaN</td>\n",
       "    </tr>\n",
       "    <tr>\n",
       "      <th>2</th>\n",
       "      <td>2</td>\n",
       "      <td>2001-01-01 01:00:00</td>\n",
       "      <td>0.459</td>\n",
       "      <td>1</td>\n",
       "      <td>-0.0</td>\n",
       "      <td>2001-01-01 01:00:00</td>\n",
       "      <td>8.380</td>\n",
       "      <td>0.0</td>\n",
       "      <td>NaT</td>\n",
       "      <td>NaN</td>\n",
       "      <td>NaN</td>\n",
       "      <td>2001-01-01 01:00:00</td>\n",
       "      <td>1.16250</td>\n",
       "      <td>NaN</td>\n",
       "      <td>NaT</td>\n",
       "      <td>NaN</td>\n",
       "      <td>NaN</td>\n",
       "      <td>NaN</td>\n",
       "      <td>NaN</td>\n",
       "    </tr>\n",
       "    <tr>\n",
       "      <th>3</th>\n",
       "      <td>3</td>\n",
       "      <td>2001-01-01 01:30:00</td>\n",
       "      <td>0.459</td>\n",
       "      <td>1</td>\n",
       "      <td>-0.0</td>\n",
       "      <td>2001-01-01 01:30:00</td>\n",
       "      <td>-3.257</td>\n",
       "      <td>0.0</td>\n",
       "      <td>NaT</td>\n",
       "      <td>NaN</td>\n",
       "      <td>NaN</td>\n",
       "      <td>2001-01-01 01:30:00</td>\n",
       "      <td>0.10336</td>\n",
       "      <td>NaN</td>\n",
       "      <td>NaT</td>\n",
       "      <td>NaN</td>\n",
       "      <td>NaN</td>\n",
       "      <td>NaN</td>\n",
       "      <td>NaN</td>\n",
       "    </tr>\n",
       "    <tr>\n",
       "      <th>4</th>\n",
       "      <td>4</td>\n",
       "      <td>2001-01-01 02:00:00</td>\n",
       "      <td>0.458</td>\n",
       "      <td>1</td>\n",
       "      <td>-0.0</td>\n",
       "      <td>2001-01-01 02:00:00</td>\n",
       "      <td>18.369</td>\n",
       "      <td>0.0</td>\n",
       "      <td>NaT</td>\n",
       "      <td>NaN</td>\n",
       "      <td>NaN</td>\n",
       "      <td>2001-01-01 02:00:00</td>\n",
       "      <td>0.20723</td>\n",
       "      <td>NaN</td>\n",
       "      <td>NaT</td>\n",
       "      <td>NaN</td>\n",
       "      <td>NaN</td>\n",
       "      <td>NaN</td>\n",
       "      <td>NaN</td>\n",
       "    </tr>\n",
       "  </tbody>\n",
       "</table>\n",
       "</div>"
      ],
      "text/plain": [
       "   Unnamed: 0            Datetime    NEE  NEE_gapfilling_method  GPP  \\\n",
       "0           0 2001-01-01 00:00:00  0.459                      1 -0.0   \n",
       "1           1 2001-01-01 00:30:00  0.459                      1 -0.0   \n",
       "2           2 2001-01-01 01:00:00  0.459                      1 -0.0   \n",
       "3           3 2001-01-01 01:30:00  0.459                      1 -0.0   \n",
       "4           4 2001-01-01 02:00:00  0.458                      1 -0.0   \n",
       "\n",
       "  Closest time for sensible_heat_flux etc  sensible_heat_flux  \\\n",
       "0                     2001-01-01 00:00:00               2.175   \n",
       "1                     2001-01-01 00:30:00               3.724   \n",
       "2                     2001-01-01 01:00:00               8.380   \n",
       "3                     2001-01-01 01:30:00              -3.257   \n",
       "4                     2001-01-01 02:00:00              18.369   \n",
       "\n",
       "   sensible_heat_flux_gapfilling_method  \\\n",
       "0                                   0.0   \n",
       "1                                   0.0   \n",
       "2                                   0.0   \n",
       "3                                   0.0   \n",
       "4                                   0.0   \n",
       "\n",
       "  Closest time for latent_heat_flux_after_4-2018 etc  \\\n",
       "0                                                NaT   \n",
       "1                                                NaT   \n",
       "2                                                NaT   \n",
       "3                                                NaT   \n",
       "4                                                NaT   \n",
       "\n",
       "   latent_heat_flux_after_4-2018  latent_heat_flux_quality_flag_after_4-2018  \\\n",
       "0                            NaN                                         NaN   \n",
       "1                            NaN                                         NaN   \n",
       "2                            NaN                                         NaN   \n",
       "3                            NaN                                         NaN   \n",
       "4                            NaN                                         NaN   \n",
       "\n",
       "  Closest time for HYY_EDDY233.LE etc  HYY_EDDY233.LE  HYY_EDDY233.Qc_LE  \\\n",
       "0                 2001-01-01 00:00:00         1.41180                NaN   \n",
       "1                 2001-01-01 00:30:00         1.19590                NaN   \n",
       "2                 2001-01-01 01:00:00         1.16250                NaN   \n",
       "3                 2001-01-01 01:30:00         0.10336                NaN   \n",
       "4                 2001-01-01 02:00:00         0.20723                NaN   \n",
       "\n",
       "  Closest time for monoterpene_flux etc  monoterpene_flux  methanol_flux  \\\n",
       "0                                   NaT               NaN            NaN   \n",
       "1                                   NaT               NaN            NaN   \n",
       "2                                   NaT               NaN            NaN   \n",
       "3                                   NaT               NaN            NaN   \n",
       "4                                   NaT               NaN            NaN   \n",
       "\n",
       "   acetone_flux  acetaldehyde_flux  \n",
       "0           NaN                NaN  \n",
       "1           NaN                NaN  \n",
       "2           NaN                NaN  \n",
       "3           NaN                NaN  \n",
       "4           NaN                NaN  "
      ]
     },
     "execution_count": 11,
     "metadata": {},
     "output_type": "execute_result"
    }
   ],
   "source": [
    "combined.head()"
   ]
  },
  {
   "cell_type": "code",
   "execution_count": 12,
   "metadata": {},
   "outputs": [
    {
     "data": {
      "text/plain": [
       "Unnamed: 0              0\n",
       "Datetime                0\n",
       "monoterpene_flux     1050\n",
       "methanol_flux         644\n",
       "acetone_flux          479\n",
       "acetaldehyde_flux    3193\n",
       "dtype: int64"
      ]
     },
     "execution_count": 12,
     "metadata": {},
     "output_type": "execute_result"
    }
   ],
   "source": [
    "voc.isna().sum()"
   ]
  },
  {
   "cell_type": "code",
   "execution_count": 13,
   "metadata": {},
   "outputs": [
    {
     "data": {
      "text/plain": [
       "Unnamed: 0                                    0\n",
       "Datetime                                      0\n",
       "latent_heat_flux_after_4-2018                 0\n",
       "latent_heat_flux_quality_flag_after_4-2018    0\n",
       "dtype: int64"
      ]
     },
     "execution_count": 13,
     "metadata": {},
     "output_type": "execute_result"
    }
   ],
   "source": [
    "latent2018.isna().sum()"
   ]
  },
  {
   "cell_type": "code",
   "execution_count": 14,
   "metadata": {},
   "outputs": [
    {
     "data": {
      "text/plain": [
       "Unnamed: 0                0\n",
       "Datetime                  0\n",
       "HYY_EDDY233.LE         2642\n",
       "HYY_EDDY233.Qc_LE    238505\n",
       "dtype: int64"
      ]
     },
     "execution_count": 14,
     "metadata": {},
     "output_type": "execute_result"
    }
   ],
   "source": [
    "latent2001.isna().sum()"
   ]
  },
  {
   "cell_type": "code",
   "execution_count": 15,
   "metadata": {},
   "outputs": [
    {
     "data": {
      "text/plain": [
       "Unnamed: 0                              0\n",
       "Datetime                                0\n",
       "sensible_heat_flux                      0\n",
       "sensible_heat_flux_gapfilling_method    0\n",
       "dtype: int64"
      ]
     },
     "execution_count": 15,
     "metadata": {},
     "output_type": "execute_result"
    }
   ],
   "source": [
    "heat.isna().sum()"
   ]
  },
  {
   "cell_type": "code",
   "execution_count": 16,
   "metadata": {},
   "outputs": [
    {
     "data": {
      "text/plain": [
       "Unnamed: 0               0\n",
       "Datetime                 0\n",
       "NEE                      0\n",
       "NEE_gapfilling_method    0\n",
       "GPP                      0\n",
       "dtype: int64"
      ]
     },
     "execution_count": 16,
     "metadata": {},
     "output_type": "execute_result"
    }
   ],
   "source": [
    "gpp.isna().sum()"
   ]
  },
  {
   "cell_type": "code",
   "execution_count": 17,
   "metadata": {},
   "outputs": [],
   "source": [
    "from sklearn.experimental import enable_iterative_imputer\n",
    "from sklearn.impute import SimpleImputer, IterativeImputer, KNNImputer\n",
    "# Täyttö koko datan keskiarvolla keskiarvolla\n",
    "simple= SimpleImputer(missing_values=np.NaN, strategy='mean')\n",
    "simple.fit(np.asarray(latent2001['HYY_EDDY233.LE']).reshape(-1, 1))\n",
    "latent2001['simple HYY_EDDY233.LE']=simple.transform(np.asarray(latent2001['HYY_EDDY233.LE']).reshape(-1, 1))\n",
    "\n",
    "simple.fit(np.asarray(voc['monoterpene_flux']).reshape(-1, 1))\n",
    "voc['simple monoterpene_flux']=simple.transform(np.asarray(voc['monoterpene_flux']).reshape(-1, 1))\n",
    "\n",
    "simple.fit(np.asarray(voc['methanol_flux']).reshape(-1, 1))\n",
    "voc['simple methanol_flux']=simple.transform(np.asarray(voc['methanol_flux']).reshape(-1, 1))\n",
    "\n",
    "simple.fit(np.asarray(voc['acetone_flux']).reshape(-1, 1))\n",
    "voc['simple acetone_flux']=simple.transform(np.asarray(voc['acetone_flux']).reshape(-1, 1))\n",
    "\n",
    "simple.fit(np.asarray(voc['acetaldehyde_flux']).reshape(-1, 1))\n",
    "voc['simple acetaldehyde_flux']=simple.transform(np.asarray(voc['acetaldehyde_flux']).reshape(-1, 1))"
   ]
  },
  {
   "cell_type": "code",
   "execution_count": 18,
   "metadata": {},
   "outputs": [],
   "source": [
    "# Iteratiivinen täyttö\n",
    "iter=IterativeImputer(max_iter=10, random_state=0)\n",
    "iter.fit(voc[['monoterpene_flux','methanol_flux','acetone_flux','acetaldehyde_flux']])\n",
    "voc[['iter monoterpene_flux','iter methanol_flux','iter acetone_flux','iter acetaldehyde_flux']]=iter.transform(voc[['monoterpene_flux','methanol_flux','acetone_flux','acetaldehyde_flux']])"
   ]
  },
  {
   "cell_type": "code",
   "execution_count": 19,
   "metadata": {},
   "outputs": [],
   "source": [
    "# Täyttö knn:llä\n",
    "knn= KNNImputer(n_neighbors=5, weights=\"distance\", missing_values=np.NaN)\n",
    "\n",
    "knn.fit(voc[['monoterpene_flux','methanol_flux','acetone_flux','acetaldehyde_flux']])\n",
    "voc[['knn monoterpene_flux','knn methanol_flux','knn acetone_flux','knn acetaldehyde_flux']]=knn.transform(voc[['monoterpene_flux','methanol_flux','acetone_flux','acetaldehyde_flux']])\n"
   ]
  },
  {
   "cell_type": "code",
   "execution_count": 36,
   "metadata": {},
   "outputs": [],
   "source": [
    "\n",
    "daily_voc = voc.resample('D', on = 'Datetime').mean().reset_index()\n",
    "daily_latent2001 = latent2001.resample('D', on = 'Datetime').mean().reset_index()"
   ]
  },
  {
   "cell_type": "code",
   "execution_count": 37,
   "metadata": {},
   "outputs": [],
   "source": [
    "#Täyttö päivittäisillä keskiarvoilla\n",
    "\n",
    "# Create a copy of the dataframe to avoid modifying the original\n",
    "daily_voc_years = daily_voc.copy()\n",
    "\n",
    "# Add a column for the day of year\n",
    "daily_voc_years['day'] = daily_voc_years['Datetime'].dt.dayofyear\n",
    "\n",
    "# Add a column for the year\n",
    "daily_voc_years['year'] = daily_voc_years['Datetime'].dt.year\n",
    "\n",
    "# Drop the column 'Datetime'\n",
    "daily_voc_years = daily_voc_years.drop(columns='Datetime')\n",
    "\n",
    "# Create a copy of the dataframe to avoid modifying the original\n",
    "daily_latent2001_years = daily_latent2001.copy()\n",
    "\n",
    "# Add a column for the day of year\n",
    "daily_latent2001_years['day'] = daily_latent2001_years['Datetime'].dt.dayofyear\n",
    "\n",
    "# Add a column for the year\n",
    "daily_latent2001_years['year'] = daily_latent2001_years['Datetime'].dt.year\n",
    "\n",
    "# Drop the column 'Datetime'\n",
    "daily_latent2001_years = daily_latent2001_years.drop(columns='Datetime')\n",
    "\n",
    "# Pivot the DataFrame so that rows are weeks and columns are years\n",
    "daily_methanol_years = daily_voc_years.pivot(index='day', columns='year', values='methanol_flux')\n",
    "daily_monoterpene_years = daily_voc_years.pivot(index='day', columns='year', values='monoterpene_flux')\n",
    "daily_acetone_years = daily_voc_years.pivot(index='day', columns='year', values='acetone_flux')\n",
    "daily_acetaldehyde_years = daily_voc_years.pivot(index='day', columns='year', values='acetaldehyde_flux')\n",
    "daily_latent2001_years = daily_latent2001_years.pivot(index='day', columns='year', values='HYY_EDDY233.LE')\n",
    "\n"
   ]
  },
  {
   "cell_type": "code",
   "execution_count": 39,
   "metadata": {},
   "outputs": [],
   "source": [
    "\n",
    "daily_methanol_years_fill=daily_methanol_years.copy()\n",
    "daily_methanol_years_fill=daily_methanol_years_fill.apply(lambda row: row.fillna(row.mean()), axis=1)\n",
    "\n",
    "daily_monoterpene_years_fill=daily_monoterpene_years.copy()\n",
    "daily_monoterpene_years_fill=daily_monoterpene_years_fill.apply(lambda row: row.fillna(row.mean()), axis=1)\n",
    "\n",
    "daily_acetone_years_fill=daily_acetone_years.copy()\n",
    "daily_acetone_years_fill=daily_acetone_years_fill.apply(lambda row: row.fillna(row.mean()), axis=1)\n",
    "\n",
    "daily_acetaldehyde_years_fill=daily_acetaldehyde_years.copy()\n",
    "daily_acetaldehyde_years_fill=daily_acetaldehyde_years_fill.apply(lambda row: row.fillna(row.mean()), axis=1)\n",
    "\n",
    "daily_latent2001_years_fill=daily_latent2001_years.copy()\n",
    "daily_latent2001_years_fill=daily_latent2001_years_fill.apply(lambda row: row.fillna(row.mean()), axis=1)"
   ]
  }
 ],
 "metadata": {
  "kernelspec": {
   "display_name": "Python 3",
   "language": "python",
   "name": "python3"
  },
  "language_info": {
   "codemirror_mode": {
    "name": "ipython",
    "version": 3
   },
   "file_extension": ".py",
   "mimetype": "text/x-python",
   "name": "python",
   "nbconvert_exporter": "python",
   "pygments_lexer": "ipython3",
   "version": "3.10.12"
  }
 },
 "nbformat": 4,
 "nbformat_minor": 2
}
