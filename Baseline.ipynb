{
 "cells": [
  {
   "cell_type": "markdown",
   "id": "b47927f8",
   "metadata": {},
   "source": [
    "### Imports"
   ]
  },
  {
   "cell_type": "code",
   "execution_count": 108,
   "id": "dc0333cd",
   "metadata": {},
   "outputs": [],
   "source": [
    "import pandas as pd\n",
    "import numpy as np\n",
    "import matplotlib.pyplot as plt\n",
    "import math"
   ]
  },
  {
   "cell_type": "markdown",
   "id": "e7368b30",
   "metadata": {},
   "source": [
    "### Loading and cleaning the data"
   ]
  },
  {
   "cell_type": "code",
   "execution_count": 109,
   "id": "e3d33cd2",
   "metadata": {},
   "outputs": [],
   "source": [
    "df1 = pd.read_csv('./data/voc_2010-2022.csv')\n",
    "df2 = pd.read_csv('./data/HYY_META.T336_1997-01-01--9999-09-09.csv')"
   ]
  },
  {
   "cell_type": "code",
   "execution_count": 110,
   "id": "0209b402",
   "metadata": {},
   "outputs": [],
   "source": [
    "# remove from df1 other columns than monoterpene_flux\n",
    "# remove from df2 Unnamed\n",
    "df1 = df1.drop(columns=['Unnamed: 0', 'methanol_flux', 'acetone_flux', 'acetaldehyde_flux'])\n",
    "df2 = df2.drop(columns=['Unnamed: 0'])"
   ]
  },
  {
   "cell_type": "code",
   "execution_count": 111,
   "id": "62465514",
   "metadata": {},
   "outputs": [],
   "source": [
    "# Convert time labels to datetime objects\n",
    "df1['Datetime'] = pd.to_datetime(df1['Datetime'])\n",
    "df2['Datetime'] = pd.to_datetime(df2['Datetime'])"
   ]
  },
  {
   "cell_type": "code",
   "execution_count": 112,
   "id": "562d5bb8",
   "metadata": {},
   "outputs": [],
   "source": [
    "# keep only observations occurring during 11.00-14.00 each day\n",
    "df1 = df1[(df1['Datetime'].dt.hour>=11) & (df1['Datetime'].dt.hour<=14)]\n",
    "df2 = df2[(df2['Datetime'].dt.hour>=11) & (df2['Datetime'].dt.hour<=14)]"
   ]
  },
  {
   "cell_type": "code",
   "execution_count": 113,
   "id": "4aafce84",
   "metadata": {},
   "outputs": [],
   "source": [
    "# Keep only the measurements after start_time\n",
    "# Monoterpene data should be available\n",
    "START_TIME = pd.to_datetime('2010-06-01')\n",
    "df1 = df1[df1['Datetime'] >= START_TIME]\n",
    "df2 = df2[df2['Datetime'] >= START_TIME]"
   ]
  },
  {
   "cell_type": "code",
   "execution_count": 114,
   "id": "9f6833a5",
   "metadata": {},
   "outputs": [],
   "source": [
    "# use daily median from measurements between 11-14\n",
    "daily_df1 = df1.resample('D', on = 'Datetime').median().reset_index()\n",
    "daily_df2 = df2.resample('D', on = 'Datetime').median().reset_index()"
   ]
  },
  {
   "cell_type": "code",
   "execution_count": 115,
   "id": "4254b49b",
   "metadata": {},
   "outputs": [],
   "source": [
    "# combine with temperature data, use only years when monoterpene data available (already done above)\n",
    "df_combined = pd.merge(daily_df1, daily_df2, on='Datetime', how='outer')"
   ]
  },
  {
   "cell_type": "code",
   "execution_count": 116,
   "id": "d008c4c5",
   "metadata": {},
   "outputs": [],
   "source": [
    "# drop lines where there is missing data\n",
    "df_combined = df_combined.dropna()"
   ]
  },
  {
   "cell_type": "markdown",
   "id": "4943d102",
   "metadata": {},
   "source": [
    "### Step 1"
   ]
  },
  {
   "cell_type": "markdown",
   "id": "39a4d629",
   "metadata": {},
   "source": [
    "The air-temperature data used here is T336 since I didn't find the 16.8m height data"
   ]
  },
  {
   "cell_type": "code",
   "execution_count": 121,
   "id": "636feb81",
   "metadata": {},
   "outputs": [],
   "source": [
    "# calculate the EF(t)\n",
    "df_combined[\"EF_t\"] = (df_combined[\"monoterpene_flux\"] * np.exp(0.09*(25-df_combined[\"HYY_META.T336\"]))) "
   ]
  },
  {
   "cell_type": "markdown",
   "id": "7ea6b0ae",
   "metadata": {},
   "source": [
    "### Step 2"
   ]
  },
  {
   "cell_type": "code",
   "execution_count": 124,
   "id": "9750ece3",
   "metadata": {},
   "outputs": [],
   "source": [
    "# Calculate the E(t) for air-temperature data-set\n",
    "df_combined[\"E_t\"] = df_combined[\"EF_t\"] / np.exp(0.09*(25-df_combined[\"HYY_META.T336\"]))"
   ]
  },
  {
   "cell_type": "code",
   "execution_count": 136,
   "id": "be44ef92",
   "metadata": {},
   "outputs": [],
   "source": [
    "# Calculate the difference between the estimate and the observation\n",
    "df_combined[\"Difference\"] = (df_combined[\"monoterpene_flux\"] - df_combined[\"E_t\"])"
   ]
  },
  {
   "cell_type": "code",
   "execution_count": 137,
   "id": "5ba75ed1",
   "metadata": {},
   "outputs": [
    {
     "data": {
      "text/plain": [
       "[<matplotlib.lines.Line2D at 0x4159bf1d0>]"
      ]
     },
     "execution_count": 137,
     "metadata": {},
     "output_type": "execute_result"
    },
    {
     "data": {
      "image/png": "[encoded data removed]",
      "text/plain": [
       "<Figure size 640x480 with 1 Axes>"
      ]
     },
     "metadata": {},
     "output_type": "display_data"
    }
   ],
   "source": [
    "plt.plot(df_combined['Difference'])"
   ]
  },
  {
   "cell_type": "markdown",
   "id": "ba2b6096",
   "metadata": {},
   "source": [
    "The differences are very small, and it seems that there is something wrong in the calculations."
   ]
  },
  {
   "cell_type": "code",
   "execution_count": null,
   "id": "d8fe2733",
   "metadata": {},
   "outputs": [],
   "source": []
  }
 ],
 "metadata": {
  "kernelspec": {
   "display_name": "Python 3 (ipykernel)",
   "language": "python",
   "name": "python3"
  },
  "language_info": {
   "codemirror_mode": {
    "name": "ipython",
    "version": 3
   },
   "file_extension": ".py",
   "mimetype": "text/x-python",
   "name": "python",
   "nbconvert_exporter": "python",
   "pygments_lexer": "ipython3",
   "version": "3.11.5"
  }
 },
 "nbformat": 4,
 "nbformat_minor": 5
}
