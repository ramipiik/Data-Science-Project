{
 "cells": [
  {
   "cell_type": "markdown",
   "metadata": {},
   "source": [
    "# Planning"
   ]
  },
  {
   "cell_type": "markdown",
   "metadata": {},
   "source": [
    "- Selitettävyys on asiakkaalle tärkeätä, joten mennään simppeleillä malleilla. (Tavoite ei ole ennustaa vaan selittää)\n",
    "- Asiakkaan mukaan vaste ei ole lineaarinen, joten päätöspuut voivat olla parempia kuin lin. regressio.\n",
    "- Kokeile seuraavia malleja sk-learnista:\n",
    "  1. Peruspäätöspuu\n",
    "  1. Random forest\n",
    "  1. Lineaarinen regressio (vertailukohta, kertoimet helppo tulkita)\n",
    "- Kohdemuuttuja (y):\n",
    "  - Joko neljän kohdemuuttujan yhteenlaskettu päiväkohtainen z-score tai\n",
    "  - Kunkin muuttujan z-score erikseen (neljä eri mallia)\n",
    "  - Testaile tehtyjen valintojen (mean vs. median, luottamusvälin leveys, ikkunoiden pituus, 10-14 vs. koko päivä), vaikutusta\n",
    "  - Syötä data ei-aikasarjamuotoisena. Eli niin, että kukin arvo on itsenäinen. Näin dataa voi sekoittaa eikä tarvitse edetä aikajärjestyksessä\n",
    "    - Tavoite ei ole ennustaa seuraavan askeleen y:tä edellisestä askeleesta.\n",
    "  \n",
    "- Selittävät muuttujat (x):\n",
    "  - Light\n",
    "  - Rain\n",
    "  - Temperature\n",
    "  - Soil water potential\n",
    "  - Soil water content\n",
    "  - Päivä (=vuoden aika) -> muuta päivänumero (1-365) radiaaneiksi, jotta joulukuu ja tammikuu tulevat vierekkäin? \n",
    "  - Kokeile näiden lisäksi erilaisia time lageja, sillä intuitiivisesti tuntuisi, että vaste ei välttämättä ole aivan välitön. Esim. kolmen edellisen päivän keskiarvo tms.\n",
    "    - Älä siis lagaa y:tä, mutta x:iä voi lagata"
   ]
  },
  {
   "cell_type": "markdown",
   "metadata": {},
   "source": [
    "# Imports"
   ]
  },
  {
   "cell_type": "code",
   "execution_count": 4,
   "metadata": {},
   "outputs": [],
   "source": [
    "import pandas as pd\n",
    "import numpy as np\n",
    "\n",
    "from sklearn.linear_model import LinearRegression # https://scikit-learn.org/stable/modules/generated/sklearn.linear_model.LinearRegression.html\n",
    "from sklearn import tree # https://scikit-learn.org/stable/modules/tree.html#regression\n",
    "from sklearn.ensemble import RandomForestRegressor # https://scikit-learn.org/stable/modules/generated/sklearn.ensemble.RandomForestRegressor.html"
   ]
  }
 ],
 "metadata": {
  "kernelspec": {
   "display_name": "venv",
   "language": "python",
   "name": "python3"
  },
  "language_info": {
   "codemirror_mode": {
    "name": "ipython",
    "version": 3
   },
   "file_extension": ".py",
   "mimetype": "text/x-python",
   "name": "python",
   "nbconvert_exporter": "python",
   "pygments_lexer": "ipython3",
   "version": "3.10.12"
  }
 },
 "nbformat": 4,
 "nbformat_minor": 2
}
