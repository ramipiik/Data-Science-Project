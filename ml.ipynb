{
 "cells": [
  {
   "cell_type": "markdown",
   "metadata": {},
   "source": [
    "# Planning"
   ]
  },
  {
   "cell_type": "markdown",
   "metadata": {},
   "source": [
    "- Selitettävyys on asiakkaalle tärkeätä, joten mennään simppeleillä malleilla. (Tavoite ei ole ennustaa vaan selittää)\n",
    "- Asiakkaan mukaan vaste ei ole lineaarinen, joten päätöspuut voivat olla parempia kuin lin. regressio.\n",
    "- Kokeile seuraavia malleja sk-learnista:\n",
    "  1. Peruspäätöspuu\n",
    "  1. Random forest\n",
    "  1. Lineaarinen regressio (vertailukohta, kertoimet helppo tulkita)\n",
    "- Kohdemuuttuja (y):\n",
    "  - Joko neljän kohdemuuttujan yhteenlaskettu päiväkohtainen z-score tai\n",
    "  - Kunkin muuttujan z-score erikseen (neljä eri mallia)\n",
    "  - Testaile tehtyjen valintojen (mean vs. median, luottamusvälin leveys, ikkunoiden pituus, 10-14 vs. koko päivä), vaikutusta\n",
    "  - Syötä data ei-aikasarjamuotoisena. Eli niin, että kukin arvo on itsenäinen. Näin dataa voi sekoittaa eikä tarvitse edetä aikajärjestyksessä\n",
    "    - Tavoite ei ole ennustaa seuraavan askeleen y:tä edellisestä askeleesta.\n",
    "  \n",
    "- Selittävät muuttujat (x):\n",
    "  - Light\n",
    "  - Rain\n",
    "  - Temperature\n",
    "  - Soil water potential\n",
    "  - Soil water content\n",
    "  - Absoluuttiset arvot vs. poikkeamat mediaanista\n",
    "  - Päivä (=vuoden aika) -> muuta päivänumero (1-365) radiaaneiksi, jotta joulukuu ja tammikuu tulevat vierekkäin? \n",
    "  - Kokeile näiden lisäksi erilaisia time lageja, sillä intuitiivisesti tuntuisi, että vaste ei välttämättä ole aivan välitön. Esim. kolmen edellisen päivän keskiarvo tms.\n",
    "    - Älä siis lagaa y:tä, mutta x:iä voi lagata"
   ]
  },
  {
   "cell_type": "markdown",
   "metadata": {},
   "source": [
    "# Imports"
   ]
  },
  {
   "cell_type": "code",
   "execution_count": 343,
   "metadata": {},
   "outputs": [],
   "source": [
    "import pandas as pd\n",
    "import numpy as np\n",
    "import matplotlib.pyplot as plt\n",
    "import math\n",
    "from sklearn.model_selection import train_test_split\n",
    "\n",
    "from sklearn.linear_model import LinearRegression # https://scikit-learn.org/stable/modules/generated/sklearn.linear_model.LinearRegression.html\n",
    "from sklearn import tree # https://scikit-learn.org/stable/modules/tree.html#regression\n",
    "from sklearn.ensemble import RandomForestRegressor # https://scikit-learn.org/stable/modules/generated/sklearn.ensemble.RandomForestRegressor.html"
   ]
  },
  {
   "cell_type": "markdown",
   "metadata": {},
   "source": [
    "# Read data"
   ]
  },
  {
   "cell_type": "code",
   "execution_count": 344,
   "metadata": {},
   "outputs": [],
   "source": [
    "df1 = pd.read_csv('./data/GPP_NEE_flux_2001-2022.csv')\n",
    "df2 = pd.read_csv('./data/voc_2010-2022.csv')\n",
    "df3 = pd.read_csv('./data/latent_heat_flux_2018-2022.csv')\n",
    "df4 = pd.read_csv('./data/latent_heat_flux_2001-2018.csv')\n",
    "df5 = pd.read_csv('./data/sensible_heat_flux_2001-2022.csv')\n",
    "df6 = pd.read_csv('./data/HYY_META.PAR_1997-01-01--9999-09-09.csv')\n",
    "df7 = pd.read_csv('./data/HYY_META.Precipacc_2005-04-01--9999-09-09.csv')\n",
    "df8 = pd.read_csv('./data/HYY_META.T672_1997-01-01--9999-09-09.csv')\n",
    "df9 = pd.read_csv('./data/HYY_META.wpsoil_A_2005-06-17--9999-09-09.csv')\n",
    "df10 = pd.read_csv('./data/HYY_META.wsoil_B1_p50_2007-02-01--2023-04-04.csv')\n",
    "\n",
    "# Drop columnns 'Unnamed: 0'\n",
    "df1 = df1.drop(columns=['Unnamed: 0'])\n",
    "df2 = df2.drop(columns=['Unnamed: 0'])\n",
    "df3 = df3.drop(columns=['Unnamed: 0'])\n",
    "df4 = df4.drop(columns=['Unnamed: 0'])\n",
    "df5 = df5.drop(columns=['Unnamed: 0'])\n",
    "df6 = df6.drop(columns=['Unnamed: 0'])\n",
    "df7 = df7.drop(columns=['Unnamed: 0'])\n",
    "df8 = df8.drop(columns=['Unnamed: 0'])\n",
    "df9 = df9.drop(columns=['Unnamed: 0'])\n",
    "df10 = df10.drop(columns=['Unnamed: 0'])\n",
    "\n",
    "# Convert time labels to datetime objects\n",
    "df1['Datetime'] = pd.to_datetime(df1['Datetime'])\n",
    "df2['Datetime'] = pd.to_datetime(df2['Datetime'])\n",
    "df3['Datetime'] = pd.to_datetime(df3['Datetime'])\n",
    "df4['Datetime'] = pd.to_datetime(df4['Datetime'])\n",
    "df5['Datetime'] = pd.to_datetime(df5['Datetime'])\n",
    "df6['Datetime'] = pd.to_datetime(df6['Datetime'])\n",
    "df7['Datetime'] = pd.to_datetime(df7['Datetime'])\n",
    "df8['Datetime'] = pd.to_datetime(df8['Datetime'])\n",
    "df9['Datetime'] = pd.to_datetime(df9['Datetime'])\n",
    "df10['Datetime'] = pd.to_datetime(df10['Datetime'])"
   ]
  },
  {
   "cell_type": "markdown",
   "metadata": {},
   "source": [
    "# Config parameters"
   ]
  },
  {
   "cell_type": "markdown",
   "metadata": {},
   "source": [
    "## Time period"
   ]
  },
  {
   "cell_type": "code",
   "execution_count": 345,
   "metadata": {},
   "outputs": [],
   "source": [
    "# 1) Select start time of the analysis\n",
    "START_TIME = pd.to_datetime('2010-06-01')\n",
    "\n",
    "# 2) Select the months of interest\n",
    "START_MONTH = 1\n",
    "END_MONTH = 12\n",
    "\n",
    "# 3) Select the measurement hours to consider. Allowed values are 'all', 'noon'\n",
    "DAILY_HOURS = 'noon'\n",
    "# DAILY_HOURS = 'all'\n",
    "assert DAILY_HOURS in ['all', 'noon']"
   ]
  },
  {
   "cell_type": "markdown",
   "metadata": {},
   "source": [
    "## Aggregation"
   ]
  },
  {
   "cell_type": "code",
   "execution_count": 346,
   "metadata": {},
   "outputs": [],
   "source": [
    "# 1) Select the method for aggregating raw measurements to daily values. Allowed values are 'mean' or 'median'\n",
    "DAILY_AGG_METHOD = 'median'\n",
    "# DAILY_AGG_METHOD = 'mean'\n",
    "assert DAILY_AGG_METHOD in ['mean', 'median']\n",
    "\n",
    "# 2) Set the window size and aggregation method for combining daily measurements\n",
    "WINDOW_SIZE = 3\n",
    "# WINDOW_AGG_METHOD = 'median'\n",
    "WINDOW_AGG_METHOD = 'mean'\n",
    "assert WINDOW_AGG_METHOD in ['mean', 'median']"
   ]
  },
  {
   "cell_type": "markdown",
   "metadata": {},
   "source": [
    "# Prepare the data"
   ]
  },
  {
   "cell_type": "code",
   "execution_count": 347,
   "metadata": {},
   "outputs": [],
   "source": [
    "if DAILY_HOURS=='noon':   \n",
    "    # keep only observations occurring during 10.00-14.00 each day\n",
    "    df1 = df1[(df1['Datetime'].dt.hour>=10) & (df1['Datetime'].dt.hour<=14)]\n",
    "    df2 = df2[(df2['Datetime'].dt.hour>=10) & (df2['Datetime'].dt.hour<=14)]\n",
    "    df3 = df3[(df3['Datetime'].dt.hour>=10) & (df3['Datetime'].dt.hour<=14)]\n",
    "    df4 = df4[(df4['Datetime'].dt.hour>=10) & (df4['Datetime'].dt.hour<=14)]\n",
    "    df5 = df5[(df5['Datetime'].dt.hour>=10) & (df5['Datetime'].dt.hour<=14)]\n",
    "    df6 = df6[(df6['Datetime'].dt.hour>=10) & (df6['Datetime'].dt.hour<=14)]\n",
    "    df7 = df7[(df7['Datetime'].dt.hour>=10) & (df7['Datetime'].dt.hour<=14)]\n",
    "    df8 = df8[(df8['Datetime'].dt.hour>=10) & (df8['Datetime'].dt.hour<=14)]\n",
    "    df9 = df9[(df9['Datetime'].dt.hour>=10) & (df9['Datetime'].dt.hour<=14)]\n",
    "    df10 = df10[(df10['Datetime'].dt.hour>=10) & (df10['Datetime'].dt.hour<=14)]"
   ]
  },
  {
   "cell_type": "code",
   "execution_count": 348,
   "metadata": {},
   "outputs": [],
   "source": [
    "# Keep only the rows where NEE_gapfilling_method is 0\n",
    "df1 = df1[df1.NEE_gapfilling_method == 0]\n",
    "\n",
    "# Reset the index\n",
    "df1.reset_index(drop=True, inplace=True)"
   ]
  },
  {
   "cell_type": "code",
   "execution_count": 349,
   "metadata": {},
   "outputs": [],
   "source": [
    "# Aggregate to daily values\n",
    "if DAILY_AGG_METHOD == 'mean':\n",
    "    daily_df1 = df1.resample('D', on = 'Datetime').mean().reset_index()\n",
    "    daily_df2 = df2.resample('D', on = 'Datetime').mean().reset_index()\n",
    "    daily_df3 = df3.resample('D', on = 'Datetime').mean().reset_index()\n",
    "    daily_df4 = df4.resample('D', on = 'Datetime').mean().reset_index()\n",
    "    daily_df5 = df5.resample('D', on = 'Datetime').mean().reset_index()\n",
    "    daily_df6 = df6.resample('D', on = 'Datetime').mean().reset_index()\n",
    "    daily_df7 = df7.resample('D', on = 'Datetime').sum().reset_index()\n",
    "    daily_df8 = df8.resample('D', on = 'Datetime').mean().reset_index()\n",
    "    daily_df9 = df9.resample('D', on = 'Datetime').mean().reset_index()\n",
    "    daily_df10 = df10.resample('D', on = 'Datetime').mean().reset_index()\n",
    "elif DAILY_AGG_METHOD == 'median':\n",
    "    daily_df1 = df1.resample('D', on = 'Datetime').median().reset_index()\n",
    "    daily_df2 = df2.resample('D', on = 'Datetime').median().reset_index()\n",
    "    daily_df3 = df3.resample('D', on = 'Datetime').median().reset_index()\n",
    "    daily_df4 = df4.resample('D', on = 'Datetime').median().reset_index()\n",
    "    daily_df5 = df5.resample('D', on = 'Datetime').median().reset_index()\n",
    "    daily_df6 = df6.resample('D', on = 'Datetime').median().reset_index()\n",
    "    daily_df7 = df7.resample('D', on = 'Datetime').sum().reset_index()\n",
    "    daily_df8 = df8.resample('D', on = 'Datetime').median().reset_index()\n",
    "    daily_df9 = df9.resample('D', on = 'Datetime').median().reset_index()\n",
    "    daily_df10 = df10.resample('D', on = 'Datetime').median().reset_index()\n",
    "else:\n",
    "    raise ValueError('agg_method must be either \"mean\" or \"median\"')"
   ]
  },
  {
   "cell_type": "code",
   "execution_count": 350,
   "metadata": {},
   "outputs": [],
   "source": [
    "# Combine latent heat flux data from 2001-2018 and 2018-2022 to same dataframe: lh_df\n",
    "daily_df4 = daily_df4.rename(columns={'HYY_EDDY233.LE': 'lh_flux'})\n",
    "daily_df4 = daily_df4.drop(columns=['HYY_EDDY233.Qc_LE'])\n",
    "\n",
    "daily_df3 = daily_df3.rename(columns={'latent_heat_flux_after_4-2018': 'lh_flux'})\n",
    "daily_df3 = daily_df3.drop(columns=['latent_heat_flux_quality_flag_after_4-2018'])\n",
    "lh_df = pd.concat([daily_df4, daily_df3], ignore_index=True)"
   ]
  },
  {
   "cell_type": "code",
   "execution_count": 351,
   "metadata": {},
   "outputs": [],
   "source": [
    "# Drop unnecessary columns\n",
    "daily_df1 = daily_df1.drop(columns=['NEE_gapfilling_method', 'GPP'])\n",
    "daily_df5 = daily_df5.drop(columns=['sensible_heat_flux_gapfilling_method'])\n",
    "daily_df2 = daily_df2.drop(columns=['methanol_flux', 'acetone_flux', 'acetaldehyde_flux'])"
   ]
  },
  {
   "cell_type": "code",
   "execution_count": 352,
   "metadata": {},
   "outputs": [],
   "source": [
    "# Merge all variables into one dataframe\n",
    "ddf = pd.merge(daily_df1, daily_df2, on='Datetime', how='outer')\n",
    "ddf = pd.merge(ddf, lh_df, on='Datetime', how='outer')\n",
    "ddf = pd.merge(ddf, daily_df5, on='Datetime', how='outer')\n",
    "ddf = pd.merge(ddf, daily_df6, on='Datetime', how='outer')\n",
    "ddf = pd.merge(ddf, daily_df7, on='Datetime', how='outer')\n",
    "ddf = pd.merge(ddf, daily_df8, on='Datetime', how='outer')\n",
    "ddf = pd.merge(ddf, daily_df9, on='Datetime', how='outer')\n",
    "ddf = pd.merge(ddf, daily_df10, on='Datetime', how='outer')"
   ]
  },
  {
   "cell_type": "code",
   "execution_count": 353,
   "metadata": {},
   "outputs": [],
   "source": [
    "# Keep only the measurements after start_time\n",
    "ddf = ddf[ddf['Datetime'] >= START_TIME]\n",
    "\n",
    "# Filter data between start_month and end_month\n",
    "ddf = ddf[(ddf['Datetime'].dt.month >= START_MONTH) & (ddf['Datetime'].dt.month <= END_MONTH)]#.copy()"
   ]
  },
  {
   "cell_type": "code",
   "execution_count": 354,
   "metadata": {},
   "outputs": [],
   "source": [
    "# Convert each daily value into a rolling value over the selected window size \n",
    "if WINDOW_AGG_METHOD == 'median':\n",
    "    ddf['monoterp_rm'] = ddf['monoterpene_flux'].rolling(window=WINDOW_SIZE, min_periods=1, center=True).mean()\n",
    "    ddf['sensible_heat_rm'] = ddf['sensible_heat_flux'].rolling(window=WINDOW_SIZE, min_periods=1, center=True).median()\n",
    "    ddf['latent_heat_rm'] = ddf['lh_flux'].rolling(window=WINDOW_SIZE, min_periods=1, center=True).median()\n",
    "    ddf['nee_rm'] = ddf['NEE'].rolling(window=WINDOW_SIZE, min_periods=1, center=True).median()\n",
    "    ddf['PAR_rm'] = ddf['HYY_META.PAR'].rolling(window=WINDOW_SIZE, min_periods=1, center=True).median()\n",
    "    ddf['precip_rm'] = ddf['HYY_META.Precipacc'].rolling(window=WINDOW_SIZE, min_periods=1, center=True).median()\n",
    "    ddf['t672_rm'] = ddf['HYY_META.T672'].rolling(window=WINDOW_SIZE, min_periods=1, center=True).median()\n",
    "    ddf['wpsoil_A_rm'] = ddf['HYY_META.wpsoil_A'].rolling(window=WINDOW_SIZE, min_periods=1, center=True).median()\n",
    "    ddf['wsoil_B1_p50_rm'] = ddf['HYY_META.wsoil_B1_p50'].rolling(window=WINDOW_SIZE, min_periods=1, center=True).median()\n",
    "elif WINDOW_AGG_METHOD == 'mean':\n",
    "    ddf['monoterp_rm'] = ddf['monoterpene_flux'].rolling(window=WINDOW_SIZE, min_periods=1, center=True).mean()\n",
    "    ddf['sensible_heat_rm'] = ddf['sensible_heat_flux'].rolling(window=WINDOW_SIZE, min_periods=1, center=True).mean()\n",
    "    ddf['latent_heat_rm'] = ddf['lh_flux'].rolling(window=WINDOW_SIZE, min_periods=1, center=True).mean()\n",
    "    ddf['nee_rm'] = ddf['NEE'].rolling(window=WINDOW_SIZE, min_periods=1, center=True).mean()\n",
    "    ddf['PAR_rm'] = ddf['HYY_META.PAR'].rolling(window=WINDOW_SIZE, min_periods=1, center=True).mean()\n",
    "    ddf['precip_rm'] = ddf['HYY_META.Precipacc'].rolling(window=WINDOW_SIZE, min_periods=1, center=True).mean()\n",
    "    ddf['t672_rm'] = ddf['HYY_META.T672'].rolling(window=WINDOW_SIZE, min_periods=1, center=True).mean()\n",
    "    ddf['wpsoil_A_rm'] = ddf['HYY_META.wpsoil_A'].rolling(window=WINDOW_SIZE, min_periods=1, center=True).mean()\n",
    "    ddf['wsoil_B1_p50_rm'] = ddf['HYY_META.wsoil_B1_p50'].rolling(window=WINDOW_SIZE, min_periods=1, center=True).mean()"
   ]
  },
  {
   "cell_type": "code",
   "execution_count": 355,
   "metadata": {},
   "outputs": [],
   "source": [
    "# Add a column for the day of year\n",
    "ddf['day'] = ddf['Datetime'].dt.dayofyear\n",
    "\n",
    "# Add a column for the year\n",
    "ddf['year'] = ddf['Datetime'].dt.year"
   ]
  },
  {
   "cell_type": "code",
   "execution_count": 356,
   "metadata": {},
   "outputs": [
    {
     "name": "stdout",
     "output_type": "stream",
     "text": [
      "<class 'pandas.core.frame.DataFrame'>\n",
      "Index: 4962 entries, 4899 to 9860\n",
      "Data columns (total 21 columns):\n",
      " #   Column                 Non-Null Count  Dtype         \n",
      "---  ------                 --------------  -----         \n",
      " 0   Datetime               4962 non-null   datetime64[ns]\n",
      " 1   NEE                    4012 non-null   float64       \n",
      " 2   monoterpene_flux       2226 non-null   float64       \n",
      " 3   lh_flux                4154 non-null   float64       \n",
      " 4   sensible_heat_flux     4597 non-null   float64       \n",
      " 5   HYY_META.PAR           4926 non-null   float64       \n",
      " 6   HYY_META.Precipacc     4962 non-null   float64       \n",
      " 7   HYY_META.T672          4776 non-null   float64       \n",
      " 8   HYY_META.wpsoil_A      4864 non-null   float64       \n",
      " 9   HYY_META.wsoil_B1_p50  4687 non-null   float64       \n",
      " 10  monoterp_rm            2571 non-null   float64       \n",
      " 11  sensible_heat_rm       4598 non-null   float64       \n",
      " 12  latent_heat_rm         4329 non-null   float64       \n",
      " 13  nee_rm                 4331 non-null   float64       \n",
      " 14  PAR_rm                 4938 non-null   float64       \n",
      " 15  precip_rm              4962 non-null   float64       \n",
      " 16  t672_rm                4824 non-null   float64       \n",
      " 17  wpsoil_A_rm            4871 non-null   float64       \n",
      " 18  wsoil_B1_p50_rm        4691 non-null   float64       \n",
      " 19  day                    4962 non-null   int32         \n",
      " 20  year                   4962 non-null   int32         \n",
      "dtypes: datetime64[ns](1), float64(18), int32(2)\n",
      "memory usage: 814.1 KB\n"
     ]
    }
   ],
   "source": [
    "ddf.info()"
   ]
  },
  {
   "cell_type": "code",
   "execution_count": 357,
   "metadata": {},
   "outputs": [],
   "source": [
    "ddf.drop(columns=[\n",
    "    'NEE',\n",
    "    'monoterpene_flux',\n",
    "    'lh_flux',\n",
    "    'sensible_heat_flux',\n",
    "    'HYY_META.PAR',\n",
    "    'HYY_META.Precipacc',\n",
    "    'HYY_META.T672',\n",
    "    'HYY_META.wpsoil_A',\n",
    "    'HYY_META.wsoil_B1_p50',\n",
    "    ], inplace=True)"
   ]
  },
  {
   "cell_type": "markdown",
   "metadata": {},
   "source": [
    "# Calculate quantiles"
   ]
  },
  {
   "cell_type": "code",
   "execution_count": 358,
   "metadata": {},
   "outputs": [],
   "source": [
    "# Pivot the DataFrame so that rows are days and columns are years\n",
    "df_mono = ddf.pivot(index='day', columns='year', values='monoterp_rm')\n",
    "df_sensible = ddf.pivot(index='day', columns='year', values='sensible_heat_rm')\n",
    "df_latent = ddf.pivot(index='day', columns='year', values='latent_heat_rm')\n",
    "df_nee = ddf.pivot(index='day', columns='year', values='nee_rm')\n",
    "df_PAR = ddf.pivot(index='day', columns='year', values='PAR_rm')\n",
    "df_precip = ddf.pivot(index='day', columns='year', values='precip_rm')\n",
    "df_t672 = ddf.pivot(index='day', columns='year', values='t672_rm')\n",
    "df_wpsoil_A = ddf.pivot(index='day', columns='year', values='wpsoil_A_rm')\n",
    "df_wsoil_B1_p50 = ddf.pivot(index='day', columns='year', values='wsoil_B1_p50_rm')\n",
    "\n",
    "# Drop column year from ddf\n",
    "ddf.drop(columns=['year'], inplace=True)"
   ]
  },
  {
   "cell_type": "code",
   "execution_count": 359,
   "metadata": {},
   "outputs": [],
   "source": [
    "# Create daily 0.1 and 0.9 quantiles for each variable\n",
    "mono_quant = pd.DataFrame(index=[0.1, 0.9], columns=range(1, len(df_mono.index) + 1))\n",
    "sensible_quant = pd.DataFrame(index=[0.1, 0.9], columns=range(1, len(df_sensible.index) + 1))\n",
    "latent_quant = pd.DataFrame(index=[0.1, 0.9], columns=range(1, len(df_latent.index) + 1))\n",
    "nee_quant = pd.DataFrame(index=[0.1, 0.9], columns=range(1, len(df_nee.index) + 1))\n",
    "PAR_quant = pd.DataFrame(index=[0.1, 0.9], columns=range(1, len(df_PAR.index) + 1))\n",
    "precip_quant = pd.DataFrame(index=[0.1, 0.9], columns=range(1, len(df_precip.index) + 1))\n",
    "t672_quant = pd.DataFrame(index=[0.1, 0.9], columns=range(1, len(df_t672.index) + 1))\n",
    "wpsoil_A_quant = pd.DataFrame(index=[0.1, 0.9], columns=range(1, len(df_wpsoil_A.index) + 1))\n",
    "wsoil_B1_p50_quant = pd.DataFrame(index=[0.1, 0.9], columns=range(1, len(df_wsoil_B1_p50.index) + 1))"
   ]
  },
  {
   "cell_type": "code",
   "execution_count": 360,
   "metadata": {},
   "outputs": [],
   "source": [
    "# Instead of looking only at one day, search the quantiles from a period of +- one week around the day in question\n",
    "\n",
    "def create_arrays(row_index, dataframe):\n",
    "    current_row = dataframe.iloc[row_index].to_numpy()\n",
    "    \n",
    "    start_index = max(1, row_index - 7)\n",
    "    end_index = min(row_index + 6, len(dataframe)-1)\n",
    "    \n",
    "    previous_rows = dataframe.iloc[start_index:row_index].to_numpy()\n",
    "    next_rows = dataframe.iloc[row_index + 1:end_index + 1].to_numpy()\n",
    "    \n",
    "    # Concatenate arrays\n",
    "    result_array = np.concatenate([previous_rows.flatten(), current_row, next_rows.flatten()])\n",
    "    \n",
    "    return result_array\n",
    "\n",
    "for index, row in df_mono.iterrows():\n",
    "    if index == len(df_mono):\n",
    "        break\n",
    "    array = create_arrays(index, df_mono)\n",
    "    lquant = np.nanquantile(array, 0.1)\n",
    "    mono_quant.at[0.1, index] = lquant\n",
    "    uquant = np.nanquantile(array, 0.9)\n",
    "    mono_quant.at[0.9, index] = uquant\n",
    "\n",
    "for index, row in df_sensible.iterrows():\n",
    "    if index == len(df_sensible):\n",
    "        break\n",
    "    array = create_arrays(index, df_sensible)\n",
    "    lquant = np.nanquantile(array, 0.1)\n",
    "    sensible_quant.at[0.1, index] = lquant\n",
    "    uquant = np.nanquantile(array, 0.9)\n",
    "    sensible_quant.at[0.9, index] = uquant\n",
    "\n",
    "for index, row in df_latent.iterrows():\n",
    "    if index == len(df_latent):\n",
    "        break\n",
    "    array = create_arrays(index, df_latent)\n",
    "    lquant = np.nanquantile(array, 0.1)\n",
    "    latent_quant.at[0.1, index] = lquant\n",
    "    uquant = np.nanquantile(array, 0.9)\n",
    "    latent_quant.at[0.9, index] = uquant\n",
    "\n",
    "for index, row in df_nee.iterrows():\n",
    "    if index == len(df_nee):\n",
    "        break\n",
    "    array = create_arrays(index, df_nee)\n",
    "    lquant = np.nanquantile(array, 0.1)\n",
    "    nee_quant.at[0.1, index] = lquant\n",
    "    uquant = np.nanquantile(array, 0.9)\n",
    "    nee_quant.at[0.9, index] = uquant\n",
    "\n",
    "for index, row in df_PAR.iterrows():\n",
    "    if index == len(df_PAR):\n",
    "        break\n",
    "    array = create_arrays(index, df_PAR)\n",
    "    lquant = np.nanquantile(array, 0.1)\n",
    "    PAR_quant.at[0.1, index] = lquant\n",
    "    uquant = np.nanquantile(array, 0.9)\n",
    "    PAR_quant.at[0.9, index] = uquant\n",
    "\n",
    "for index, row in df_precip.iterrows():\n",
    "    if index == len(df_precip):\n",
    "        break\n",
    "    array = create_arrays(index, df_precip)\n",
    "    lquant = np.nanquantile(array, 0.1)\n",
    "    precip_quant.at[0.1, index] = lquant\n",
    "    uquant = np.nanquantile(array, 0.9)\n",
    "    precip_quant.at[0.9, index] = uquant\n",
    "\n",
    "for index, row in df_t672.iterrows():\n",
    "    if index == len(df_t672):\n",
    "        break\n",
    "    array = create_arrays(index, df_t672)\n",
    "    lquant = np.nanquantile(array, 0.1)\n",
    "    t672_quant.at[0.1, index] = lquant\n",
    "    uquant = np.nanquantile(array, 0.9)\n",
    "    t672_quant.at[0.9, index] = uquant\n",
    "\n",
    "for index, row in df_wpsoil_A.iterrows():\n",
    "    if index == len(df_wpsoil_A):\n",
    "        break\n",
    "    array = create_arrays(index, df_wpsoil_A)\n",
    "    lquant = np.nanquantile(array, 0.1)\n",
    "    wpsoil_A_quant.at[0.1, index] = lquant\n",
    "    uquant = np.nanquantile(array, 0.9)\n",
    "    wpsoil_A_quant.at[0.9, index] = uquant\n",
    "\n",
    "for index, row in df_wsoil_B1_p50.iterrows():\n",
    "    if index == len(df_wsoil_B1_p50):\n",
    "        break\n",
    "    array = create_arrays(index, df_wsoil_B1_p50)\n",
    "    lquant = np.nanquantile(array, 0.1)\n",
    "    wsoil_B1_p50_quant.at[0.1, index] = lquant\n",
    "    uquant = np.nanquantile(array, 0.9)\n",
    "    wsoil_B1_p50_quant.at[0.9, index] = uquant"
   ]
  },
  {
   "cell_type": "markdown",
   "metadata": {},
   "source": [
    "# Calculate z-scores"
   ]
  },
  {
   "cell_type": "code",
   "execution_count": 361,
   "metadata": {},
   "outputs": [],
   "source": [
    "# Create a new dataframe for z-scores as a copy of ddf\n",
    "z_scores = ddf.copy()\n",
    "z_scores.set_index('Datetime', inplace=True)\n",
    "\n",
    "# calculate z-scores for each variable\n",
    "for index, row in z_scores.iterrows():\n",
    "    day = index.dayofyear\n",
    "    z_scores.at[index, 'monoterp_zscore']=(row['monoterp_rm']-df_mono.loc[day].mean())/df_mono.loc[day].std(ddof=0)\n",
    "    z_scores.at[index, 'sensible_heat_zscore']=(row['sensible_heat_rm']-df_sensible.loc[day].mean())/df_sensible.loc[day].std(ddof=0)\n",
    "    z_scores.at[index, 'latent_heat_zscore']=(row['latent_heat_rm']-df_latent.loc[day].mean())/df_latent.loc[day].std(ddof=0)\n",
    "    z_scores.at[index, 'nee_zscore']=(row['nee_rm']-df_nee.loc[day].mean())/df_nee.loc[day].std(ddof=0)\n",
    "    z_scores.at[index, 'PAR_zscore']=(row['PAR_rm']-df_PAR.loc[day].mean())/df_PAR.loc[day].std(ddof=0)\n",
    "    z_scores.at[index, 'precip_zscore']=(row['precip_rm']-df_precip.loc[day].mean())/df_precip.loc[day].std(ddof=0)\n",
    "    z_scores.at[index, 't672_zscore']=(row['t672_rm']-df_t672.loc[day].mean())/df_t672.loc[day].std(ddof=0)\n",
    "    z_scores.at[index, 'wpsoil_A_zscore']=(row['wpsoil_A_rm']-df_wpsoil_A.loc[day].mean())/df_wpsoil_A.loc[day].std(ddof=0)\n",
    "    z_scores.at[index, 'wsoil_B1_p50_zscore']=(row['wsoil_B1_p50_rm']-df_wsoil_B1_p50.loc[day].mean())/df_wsoil_B1_p50.loc[day].std(ddof=0)\n",
    "    \n",
    "\n",
    "z_scores.drop(columns=[\n",
    "    'monoterp_rm',\n",
    "    'sensible_heat_rm',\n",
    "    'latent_heat_rm',\n",
    "    'nee_rm',\n",
    "    'PAR_rm',\n",
    "    'precip_rm',\n",
    "    't672_rm',\n",
    "    'wpsoil_A_rm',\n",
    "    'wsoil_B1_p50_rm'], inplace=True)\n",
    "\n",
    "z_scores_2010 = z_scores[z_scores.index.year == 2010]\n",
    "z_scores_2011 = z_scores[z_scores.index.year == 2011]\n",
    "z_scores_2012 = z_scores[z_scores.index.year == 2012]\n",
    "z_scores_2013 = z_scores[z_scores.index.year == 2013]\n",
    "z_scores_2014 = z_scores[z_scores.index.year == 2014]\n",
    "z_scores_2015 = z_scores[z_scores.index.year == 2015]\n",
    "z_scores_2016 = z_scores[z_scores.index.year == 2016]\n",
    "z_scores_2017 = z_scores[z_scores.index.year == 2017]\n",
    "z_scores_2018 = z_scores[z_scores.index.year == 2018]\n",
    "z_scores_2019 = z_scores[z_scores.index.year == 2019]\n",
    "z_scores_2020 = z_scores[z_scores.index.year == 2020]\n",
    "z_scores_2021 = z_scores[z_scores.index.year == 2021]\n",
    "z_scores_2022 = z_scores[z_scores.index.year == 2022]\n",
    "\n",
    "z_scores_2010.set_index('day', inplace=True)\n",
    "z_scores_2011.set_index('day', inplace=True)\n",
    "z_scores_2012.set_index('day', inplace=True)\n",
    "z_scores_2013.set_index('day', inplace=True)\n",
    "z_scores_2014.set_index('day', inplace=True)\n",
    "z_scores_2015.set_index('day', inplace=True)\n",
    "z_scores_2016.set_index('day', inplace=True)\n",
    "z_scores_2017.set_index('day', inplace=True)\n",
    "z_scores_2018.set_index('day', inplace=True)\n",
    "z_scores_2019.set_index('day', inplace=True)\n",
    "z_scores_2020.set_index('day', inplace=True)\n",
    "z_scores_2021.set_index('day', inplace=True)\n",
    "z_scores_2022.set_index('day', inplace=True)"
   ]
  },
  {
   "cell_type": "code",
   "execution_count": 362,
   "metadata": {},
   "outputs": [
    {
     "data": {
      "image/png": "[encoded data removed]",
      "text/plain": [
       "<Figure size 2000x800 with 1 Axes>"
      ]
     },
     "metadata": {},
     "output_type": "display_data"
    }
   ],
   "source": [
    "# Plot year 2011 as an example\n",
    "z_scores_2011.iloc[:,:4].abs().plot(kind='bar', stacked=True, figsize=(20, 8))\n",
    "\n",
    "ticks = list(range(1, len(z_scores_2011.index)+1, 3))\n",
    "\n",
    "plt.xticks(ticks, labels=np.array(z_scores_2011.index + 1)[np.array(ticks)-1])\n",
    "plt.title(f'Z scores with {WINDOW_SIZE}-day window rolling {WINDOW_AGG_METHOD}, 2010')\n",
    "plt.xlabel('Day of year')\n",
    "plt.ylabel('Z scores')\n",
    "\n",
    "plt.show()"
   ]
  },
  {
   "cell_type": "markdown",
   "metadata": {},
   "source": [
    "# Feature engineering"
   ]
  },
  {
   "cell_type": "code",
   "execution_count": 363,
   "metadata": {},
   "outputs": [],
   "source": [
    "# For clarity, make z_scores and ddf have the same columns in same order\n",
    "z_scores.reset_index(inplace=True)\n",
    "day = ddf.pop('day')\n",
    "ddf.insert(1, 'day', day)\n",
    "\n",
    "# Merge the dataframes\n",
    "df=ddf.merge(z_scores, on='Datetime', how='inner')\n",
    "\n",
    "# Drop column 'Datetime' and 'day_y'\n",
    "df.drop(columns=['Datetime', 'day_y'], inplace=True)\n",
    "\n",
    "# Rename column 'day_x' to 'day'\n",
    "df.rename(columns={'day_x': 'day'}, inplace=True)"
   ]
  },
  {
   "cell_type": "code",
   "execution_count": 368,
   "metadata": {},
   "outputs": [],
   "source": [
    "# Convert day number to circular coordinates\n",
    "def day_to_coordinates(day_number):\n",
    "    normalized_day = day_number / 365.0\n",
    "    angle = normalized_day * 2 * math.pi\n",
    "    x = np.cos(angle)\n",
    "    y = np.sin(angle)\n",
    "    return x, y\n",
    "\n",
    "# Apply the function \n",
    "df[['x_coord', 'y_coord']] = df['day'].apply(lambda x: pd.Series(day_to_coordinates(x)))\n",
    "\n",
    "# Move the x and y columns to the front of the DataFrame\n",
    "df = df[['x_coord', 'y_coord'] + [col for col in df.columns if col not in ['x_coord', 'y_coord']]]\n",
    "\n",
    "# Drop the day column \n",
    "df.drop(columns=['day'], inplace=True)"
   ]
  },
  {
   "cell_type": "code",
   "execution_count": 371,
   "metadata": {},
   "outputs": [],
   "source": [
    "# Create lagging variables. Lag is the average of previous x steps\n",
    "lag_size = 3\n",
    "\n",
    "# Define the columns to apply lag\n",
    "lag_columns = ['PAR_rm', 'precip_rm', 't672_rm', 'wpsoil_A_rm', 'wsoil_B1_p50_rm']\n",
    "\n",
    "# Define the lag size\n",
    "lag_size = 3\n",
    "\n",
    "# Calculate lagging variables for specified columns\n",
    "lag_df = df[lag_columns].rolling(window=lag_size).mean().shift(1)\n",
    "\n",
    "# Rename the columns with lag suffix\n",
    "lag_df.columns = [col + '_lag' + str(lag_size) for col in lag_df.columns]\n",
    "\n",
    "# Concatenate the original DataFrame with lagging variables\n",
    "df = pd.concat([df, lag_df], axis=1)"
   ]
  },
  {
   "cell_type": "code",
   "execution_count": 372,
   "metadata": {},
   "outputs": [
    {
     "name": "stdout",
     "output_type": "stream",
     "text": [
      "<class 'pandas.core.frame.DataFrame'>\n",
      "RangeIndex: 4962 entries, 0 to 4961\n",
      "Data columns (total 25 columns):\n",
      " #   Column                Non-Null Count  Dtype  \n",
      "---  ------                --------------  -----  \n",
      " 0   x_coord               4962 non-null   float64\n",
      " 1   y_coord               4962 non-null   float64\n",
      " 2   monoterp_rm           2571 non-null   float64\n",
      " 3   sensible_heat_rm      4598 non-null   float64\n",
      " 4   latent_heat_rm        4329 non-null   float64\n",
      " 5   nee_rm                4331 non-null   float64\n",
      " 6   PAR_rm                4938 non-null   float64\n",
      " 7   precip_rm             4962 non-null   float64\n",
      " 8   t672_rm               4824 non-null   float64\n",
      " 9   wpsoil_A_rm           4871 non-null   float64\n",
      " 10  wsoil_B1_p50_rm       4691 non-null   float64\n",
      " 11  monoterp_zscore       2571 non-null   float64\n",
      " 12  sensible_heat_zscore  4598 non-null   float64\n",
      " 13  latent_heat_zscore    4329 non-null   float64\n",
      " 14  nee_zscore            4331 non-null   float64\n",
      " 15  PAR_zscore            4938 non-null   float64\n",
      " 16  precip_zscore         4962 non-null   float64\n",
      " 17  t672_zscore           4824 non-null   float64\n",
      " 18  wpsoil_A_zscore       4871 non-null   float64\n",
      " 19  wsoil_B1_p50_zscore   4691 non-null   float64\n",
      " 20  PAR_rm_lag3           4931 non-null   float64\n",
      " 21  precip_rm_lag3        4959 non-null   float64\n",
      " 22  t672_rm_lag3          4811 non-null   float64\n",
      " 23  wpsoil_A_rm_lag3      4864 non-null   float64\n",
      " 24  wsoil_B1_p50_rm_lag3  4689 non-null   float64\n",
      "dtypes: float64(25)\n",
      "memory usage: 969.3 KB\n"
     ]
    }
   ],
   "source": [
    "df.info()"
   ]
  },
  {
   "cell_type": "markdown",
   "metadata": {},
   "source": [
    "# ML Setup 1\n",
    "- Sum of z-scores as y\n",
    "- Absolute rolling values as x's"
   ]
  },
  {
   "cell_type": "code",
   "execution_count": 374,
   "metadata": {},
   "outputs": [
    {
     "name": "stdout",
     "output_type": "stream",
     "text": [
      "<class 'pandas.core.frame.DataFrame'>\n",
      "RangeIndex: 4962 entries, 0 to 4961\n",
      "Data columns (total 13 columns):\n",
      " #   Column                Non-Null Count  Dtype  \n",
      "---  ------                --------------  -----  \n",
      " 0   x_coord               4962 non-null   float64\n",
      " 1   y_coord               4962 non-null   float64\n",
      " 2   z_score               2467 non-null   float64\n",
      " 3   PAR_rm                4938 non-null   float64\n",
      " 4   precip_rm             4962 non-null   float64\n",
      " 5   t672_rm               4824 non-null   float64\n",
      " 6   wpsoil_A_rm           4871 non-null   float64\n",
      " 7   wsoil_B1_p50_rm       4691 non-null   float64\n",
      " 8   PAR_rm_lag3           4931 non-null   float64\n",
      " 9   precip_rm_lag3        4959 non-null   float64\n",
      " 10  t672_rm_lag3          4811 non-null   float64\n",
      " 11  wpsoil_A_rm_lag3      4864 non-null   float64\n",
      " 12  wsoil_B1_p50_rm_lag3  4689 non-null   float64\n",
      "dtypes: float64(13)\n",
      "memory usage: 504.1 KB\n"
     ]
    }
   ],
   "source": [
    "df1=df.copy()\n",
    "\n",
    "# Add new column z_score as sum of monoterp_zscore, sensible_heat_zscore, latent_heat_zscore, nee_zscore\n",
    "df1['z_score'] = df1['monoterp_zscore'] + df1['sensible_heat_zscore'] + df1['latent_heat_zscore'] + df1['nee_zscore']\n",
    "\n",
    "# Select columns to use in this setup\n",
    "df1 = df1[['x_coord', 'y_coord', 'z_score', 'PAR_rm', 'precip_rm', 't672_rm', 'wpsoil_A_rm', 'wsoil_B1_p50_rm', 'PAR_rm_lag3', 'precip_rm_lag3', 't672_rm_lag3', 'wpsoil_A_rm_lag3', 'wsoil_B1_p50_rm_lag3']]\n",
    "\n",
    "df1.info()"
   ]
  },
  {
   "cell_type": "code",
   "execution_count": 375,
   "metadata": {},
   "outputs": [
    {
     "name": "stdout",
     "output_type": "stream",
     "text": [
      "X_train shape: (3969, 12)\n",
      "X_test shape: (993, 12)\n",
      "y_train shape: (3969,)\n",
      "y_test shape: (993,)\n"
     ]
    }
   ],
   "source": [
    "# Shuffle the DataFrame\n",
    "df1 = df1.sample(frac=1).reset_index(drop=True)\n",
    "\n",
    "# Split the DataFrame into features (X) and target variable (y)\n",
    "X = df1.drop(columns=['z_score'])\n",
    "y = df1['z_score']\n",
    "\n",
    "# Split the data into training and testing sets\n",
    "X_train, X_test, y_train, y_test = train_test_split(X, y, test_size=0.2, random_state=42)\n",
    "\n",
    "# Print the shapes of the resulting sets\n",
    "print(\"X_train shape:\", X_train.shape)\n",
    "print(\"X_test shape:\", X_test.shape)\n",
    "print(\"y_train shape:\", y_train.shape)\n",
    "print(\"y_test shape:\", y_test.shape)\n"
   ]
  }
 ],
 "metadata": {
  "kernelspec": {
   "display_name": "venv",
   "language": "python",
   "name": "python3"
  },
  "language_info": {
   "codemirror_mode": {
    "name": "ipython",
    "version": 3
   },
   "file_extension": ".py",
   "mimetype": "text/x-python",
   "name": "python",
   "nbconvert_exporter": "python",
   "pygments_lexer": "ipython3",
   "version": "3.10.12"
  }
 },
 "nbformat": 4,
 "nbformat_minor": 2
}
